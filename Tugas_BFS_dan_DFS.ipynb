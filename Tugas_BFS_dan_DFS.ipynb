{
  "nbformat": 4,
  "nbformat_minor": 0,
  "metadata": {
    "colab": {
      "provenance": [],
      "collapsed_sections": [],
      "include_colab_link": true
    },
    "kernelspec": {
      "name": "python3",
      "display_name": "Python 3"
    },
    "language_info": {
      "name": "python"
    }
  },
  "cells": [
    {
      "cell_type": "markdown",
      "metadata": {
        "id": "view-in-github",
        "colab_type": "text"
      },
      "source": [
        "<a href=\"https://colab.research.google.com/github/cahyo2703/0115-MCN/blob/master/Tugas_BFS_dan_DFS.ipynb\" target=\"_parent\"><img src=\"https://colab.research.google.com/assets/colab-badge.svg\" alt=\"Open In Colab\"/></a>"
      ]
    },
    {
      "cell_type": "code",
      "execution_count": null,
      "metadata": {
        "id": "KGoROMChLJJ0"
      },
      "outputs": [],
      "source": [
        "peta = {'A':set(['B', 'H']),\n",
        "        'B':set(['C', 'A', 'H']),\n",
        "        'C':set(['B', 'E', 'D']),\n",
        "        'D':set(['C', 'E', 'H', 'G', 'F']),\n",
        "        'E':set(['C', 'D']),\n",
        "        'F':set(['D', 'G']),\n",
        "        'G':set(['D', 'F', 'H']),\n",
        "        'H':set(['B', 'A', 'D', 'G']),\n",
        "        }"
      ]
    },
    {
      "cell_type": "code",
      "source": [
        "def bfs_terdekat(graph, mulai, goal):\n",
        "\n",
        "  explored = []\n",
        "\n",
        "  queue = [[mulai]]\n",
        "\n",
        "\n",
        "  if mulai == goal:\n",
        "    return \"Awal adalah Tujuan\"\n",
        "\n",
        "\n",
        "  while queue:\n",
        "\n",
        "    jalur = queue.pop(0)\n",
        "\n",
        "    node = jalur[-1]\n",
        "\n",
        "    if node not in explored:\n",
        "      neighbours = graph[node]\n",
        "\n",
        "      for neighbour in neighbours:\n",
        "        jalur_baru = list(jalur)\n",
        "        jalur_baru.append(neighbour)\n",
        "        queue.append(jalur_baru)\n",
        "\n",
        "        if neighbour == goal:\n",
        "          return jalur_baru\n",
        "\n",
        "      explored.append(node)\n",
        "\n",
        "  return \"Mohon maaf node yang kalian pilih tidak ada\"\n",
        "\n",
        "awal   = input(\"Masukan awal: \")\n",
        "tujuan = input(\"Masukan akhir: \")\n",
        "\n",
        "print(bfs_terdekat(peta, awal, tujuan))"
      ],
      "metadata": {
        "id": "YisrrvrPMBt6"
      },
      "execution_count": null,
      "outputs": []
    },
    {
      "cell_type": "code",
      "source": [
        "peta = {'A':set(['B', 'S']),\n",
        "        'B':set(['A']),\n",
        "        'C':set(['D', 'E', 'F', 'S']),\n",
        "        'D':set(['C']),\n",
        "        'E':set(['C', 'H']),\n",
        "        'F':set(['C', 'G']),\n",
        "        'G':set(['F', 'S']),\n",
        "        'H':set(['E', 'G']),\n",
        "        'S':set(['A', 'C', 'G']),\n",
        "        }"
      ],
      "metadata": {
        "id": "pcg3czZh2Y2Q"
      },
      "execution_count": null,
      "outputs": []
    },
    {
      "cell_type": "code",
      "source": [
        "def dfs(graph, mulai, goal):\n",
        "\n",
        "  explored = []\n",
        "\n",
        "  stack = [[mulai]]\n",
        "\n",
        "  if mulai == goal:\n",
        "    return \"Awal adalah tujuan\"\n",
        "\n",
        "  while stack:\n",
        "\n",
        "    jalur = stack.pop(-1)\n",
        "\n",
        "    node = jalur [-1]\n",
        "\n",
        "    if node not in explored:\n",
        "      neighbours = graph[node] \n",
        "\n",
        "      for neighbour in neighbours: \n",
        "        jalur_baru = list(jalur)\n",
        "        jalur_baru.append(neighbour)\n",
        "        stack.append(jalur_baru) \n",
        "\n",
        "        if neighbour == goal:\n",
        "          return jalur_baru\n",
        "\n",
        "      explored.append(node)\n",
        "\n",
        "  return \"Mohon maaf node yang kalian pilih tidak ada\"\n",
        "\n",
        "awal   = input(\"Masukan Awal: \")\n",
        "tujuan = input(\"Masukan Akhir: \")\n",
        "\n",
        "print(dfs(peta, awal, tujuan))"
      ],
      "metadata": {
        "colab": {
          "base_uri": "https://localhost:8080/"
        },
        "id": "mU61TB3z3IWv",
        "outputId": "913148c0-9828-4624-83b8-88fba44e3900"
      },
      "execution_count": null,
      "outputs": [
        {
          "output_type": "stream",
          "name": "stdout",
          "text": [
            "Masukan Awal: A\n",
            "Masukan Akhir: E\n",
            "['A', 'S', 'C', 'E']\n"
          ]
        }
      ]
    }
  ]
}